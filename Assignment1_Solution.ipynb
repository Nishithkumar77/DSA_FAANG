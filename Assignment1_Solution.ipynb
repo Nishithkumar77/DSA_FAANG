{
 "cells": [
  {
   "cell_type": "markdown",
   "id": "1d6696f6",
   "metadata": {},
   "source": [
    "1. Compute and return the square root of x, where x is guaranteed to be a non-negativeinteger. \n",
    "And since the return type is an integer, the decimal digits are truncated and only the integer part of the result is returned.\n",
    "Also, talk about the time complexity of yourcode.\n",
    "\n",
    "Test Cases:\n",
    "    \n",
    "Input: 4\n",
    "    \n",
    "Output: 2\n",
    "    \n",
    "Input: 8\n",
    "    \n",
    "Output: 2\n",
    "    \n",
    "Explanation: The square root of 8 is 2.8284…., the decimal part is truncated and 2 is returned.\n",
    "    \n",
    "Hint: Try to use a modified binary search approach for an optimized solution"
   ]
  },
  {
   "cell_type": "code",
   "execution_count": 1,
   "id": "7b262396",
   "metadata": {},
   "outputs": [
    {
     "name": "stdout",
     "output_type": "stream",
     "text": [
      "Enter the number: 4\n",
      "2\n"
     ]
    }
   ],
   "source": [
    "## defining function\n",
    "def SquareRoot(num):\n",
    "    \n",
    "    if num==0 or num==1:\n",
    "        return num\n",
    "    start = 1\n",
    "    end = num//2\n",
    "    while (start <= end):\n",
    "        mid = (start + end)//2\n",
    "        \n",
    "        if(mid * mid == num):\n",
    "            return mid\n",
    "            \n",
    "        if (mid * mid < num):\n",
    "            start = mid + 1\n",
    "            ans = mid\n",
    "        else:\n",
    "            end=mid-1\n",
    "            \n",
    "    return ans\n",
    "## Driver Code\n",
    "num = int(input(\"Enter the number: \"))\n",
    "\n",
    "## function calling\n",
    "result = SquareRoot(num)\n",
    "print(result)"
   ]
  },
  {
   "cell_type": "markdown",
   "id": "a0087def",
   "metadata": {},
   "source": [
    "2. You are a product manager and currently leading a team to develop a new product.\n",
    "Unfortunately, the latest version of your product fails the quality check. Since each\n",
    "version is developed based on the previous version, all the versions after a bad version\n",
    "are also bad. Suppose you have n version and you want to find out the first bad one,\n",
    "which causes all the following ones to be bad. Also, talk about the time complexity of\n",
    "your code.\n",
    "\n",
    "Test Cases:\n",
    "    \n",
    "Input: [0,0,0,1,1,1,1,1,1]\n",
    "    \n",
    "Output: 3\n",
    "    \n",
    "Explanation: 0 indicates a good version and 1 indicates a bad version. So, the index of the first 1 is at 3. Thus, the output is 3"
   ]
  },
  {
   "cell_type": "code",
   "execution_count": 2,
   "id": "98b1439f",
   "metadata": {},
   "outputs": [
    {
     "name": "stdout",
     "output_type": "stream",
     "text": [
      "Searching element is present at the location: 3\n"
     ]
    }
   ],
   "source": [
    "def first_bad_version(a):\n",
    "    left= 0\n",
    "    right= len(a)-1\n",
    "    ans=0\n",
    "    while left <= right:\n",
    "        mid= (left+right)//2\n",
    "        if a[mid-1] ==0 and a[mid]==1:\n",
    "            ans= mid\n",
    "            break\n",
    "        elif a[mid]==0:\n",
    "            left= mid+1\n",
    "        else:\n",
    "            right= mid-1\n",
    "        \n",
    "    return ans\n",
    "\n",
    "# Driver Code\n",
    "arr =  [0,0,0,1,1,1,1,1,1]\n",
    "\n",
    "## function calling\n",
    "result = first_bad_version(arr)\n",
    "print(\"Searching element is present at the location:\",result)"
   ]
  },
  {
   "cell_type": "code",
   "execution_count": 3,
   "id": "607a8a63",
   "metadata": {},
   "outputs": [
    {
     "name": "stdout",
     "output_type": "stream",
     "text": [
      "Searching element is present at index: 3\n"
     ]
    }
   ],
   "source": [
    "def BadVersion(arr, x):\n",
    "    for i in range(len(arr)):\n",
    "        if arr[i] == x:\n",
    "            return i\n",
    "    return -1\n",
    "    \n",
    "## Driver code\n",
    "arr = [0,0,0,1,1,1,1,1,1]\n",
    "x = 1\n",
    "## function calling\n",
    "result = BadVersion(arr, x)\n",
    "print(\"Searching element is present at index:\",result)"
   ]
  },
  {
   "cell_type": "markdown",
   "id": "8bd92d19",
   "metadata": {},
   "source": [
    "\n",
    "3.Given a positive integer num, write a program that returns True if num is a perfect square else return False. Do not use built-in functions like sqrt. Also, talk about the time\n",
    "complexity of your code.\n",
    "\n",
    "Test Cases:\n",
    "\n",
    "Input: 16\n",
    "\n",
    "Output: True\n",
    "\n",
    "Input: 14\n",
    "\n",
    "Output: False\n"
   ]
  },
  {
   "cell_type": "code",
   "execution_count": 4,
   "id": "564e63af",
   "metadata": {},
   "outputs": [
    {
     "name": "stdout",
     "output_type": "stream",
     "text": [
      "Enter the number: 4\n",
      "True\n"
     ]
    }
   ],
   "source": [
    "## Defining function\n",
    "\n",
    "def PerfectSquare(n,start,last):\n",
    "    mid = int((start+last)/2)\n",
    "    if(start>last):\n",
    "        return False\n",
    "    if (mid*mid==n):\n",
    "        return True\n",
    "    elif (mid*mid>n):\n",
    "        return PerfectSquare(n,start,mid-1)\n",
    "    else:\n",
    "        return PerfectSquare(n,mid+1,last)\n",
    "## Driver Code\n",
    "n = int(input(\"Enter the number: \"))\n",
    "\n",
    "## function calling\n",
    "print(PerfectSquare(n,1,n))"
   ]
  },
  {
   "cell_type": "code",
   "execution_count": null,
   "id": "878eed21",
   "metadata": {},
   "outputs": [],
   "source": []
  }
 ],
 "metadata": {
  "kernelspec": {
   "display_name": "Python 3 (ipykernel)",
   "language": "python",
   "name": "python3"
  },
  "language_info": {
   "codemirror_mode": {
    "name": "ipython",
    "version": 3
   },
   "file_extension": ".py",
   "mimetype": "text/x-python",
   "name": "python",
   "nbconvert_exporter": "python",
   "pygments_lexer": "ipython3",
   "version": "3.9.12"
  }
 },
 "nbformat": 4,
 "nbformat_minor": 5
}
